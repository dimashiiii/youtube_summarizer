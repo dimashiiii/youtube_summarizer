{
 "cells": [
  {
   "cell_type": "code",
   "execution_count": null,
   "id": "cbae6db2",
   "metadata": {},
   "outputs": [],
   "source": [
    "# importing necessary libraries\n",
    "from youtube_transcript_api import YouTubeTranscriptApi\n",
    "from youtube_transcript_api.formatters import TextFormatter\n",
    "\n",
    "from langchain_google_genai import GoogleGenerativeAIEmbeddings\n",
    "from langchain_text_splitters.sentence_transformers import SentenceTransformersTokenTextSplitter\n",
    "from langchain_google_genai import ChatGoogleGenerativeAI\n",
    "\n",
    "from langchain_chroma import Chroma"
   ]
  },
  {
   "cell_type": "code",
   "execution_count": 2,
   "id": "3965b4b6",
   "metadata": {},
   "outputs": [],
   "source": [
    "from dotenv import load_dotenv\n",
    "import os\n",
    "load_dotenv()\n",
    "\n",
    "GEMINI_API_KEY = os.getenv(\"GEMINI_API_KEY\")\n",
    "os.environ[\"GOOGLE_API_KEY\"] = GEMINI_API_KEY"
   ]
  },
  {
   "cell_type": "code",
   "execution_count": 4,
   "id": "12c6e6b2",
   "metadata": {},
   "outputs": [],
   "source": [
    "# gemini \n",
    "\n",
    "llm = ChatGoogleGenerativeAI(model=\"gemini-2.5-pro\")\n",
    "\n",
    "embedding_model = GoogleGenerativeAIEmbeddings(model=\"models/embedding-001\")\n"
   ]
  },
  {
   "cell_type": "code",
   "execution_count": null,
   "id": "e703c879",
   "metadata": {},
   "outputs": [],
   "source": [
    "# chromadb\n",
    "\n",
    "vectorstore = Chroma(\n",
    "    embedding_function=embedding_model,\n",
    "    collection_name=\"test_db\",\n",
    "    persist_directory=\"./test_db\"\n",
    "    )\n",
    "\n"
   ]
  },
  {
   "cell_type": "code",
   "execution_count": null,
   "id": "12672ffc",
   "metadata": {},
   "outputs": [],
   "source": [
    "# youtube videos to transcribe \n",
    "\n",
    "# https://www.youtube.com/watch?v=gM_7DbppaaI\n",
    "# https://www.youtube.com/watch?v=-AuK92Jq4yQ\n",
    "\n",
    "# this is an id of a youtube video -> -AuK92Jq4yQ\n",
    "\n",
    "# https://www.youtube.com/watch?v=_6BrRB8VCvo&t=319s\n",
    "# https://www.youtube.com/watch?v=4mA54Uy3YGY\n"
   ]
  },
  {
   "cell_type": "code",
   "execution_count": 6,
   "id": "27b1f4de",
   "metadata": {},
   "outputs": [],
   "source": [
    "def extract_video_id(url: str) -> str:\n",
    "    try:\n",
    "        return url.split(\"v=\")[1].split(\"&\")[0]\n",
    "    except IndexError:\n",
    "        raise ValueError(\"Invalid YouTube URL format. Expected something like: https://www.youtube.com/watch?v=VIDEO_ID\")\n"
   ]
  },
  {
   "cell_type": "code",
   "execution_count": 22,
   "id": "2df05fe1",
   "metadata": {},
   "outputs": [],
   "source": [
    "url = 'https://www.youtube.com/watch?v=lUe_RI_m-Vg&list=PL8dPuuaLjXtOAKed_MxxWBNaPno5h3Zs8&index=4'\n",
    "yt_video_id = extract_video_id(url)"
   ]
  },
  {
   "cell_type": "code",
   "execution_count": 23,
   "id": "42d86f6e",
   "metadata": {},
   "outputs": [
    {
     "data": {
      "text/plain": [
       "\"As any teacher will tell you, when you’re\\ndealing with certain elements that are being\\nfeisty and fidgety and basically not cooperating,\\nthere’s pretty much only one thing you can\\ndo: you gotta keep ‘em separated.\\nAnd there’s a whole system of biological\\ntissue that’s dedicated to doing just that\\n-- creating order where there would otherwise\\nbe total mayhem.\\nBecause you and pretty much every other animal\\nis made up of incredibly complex, feisty, fidgety\\nsystems that need to be kept apart to some\\nextent if they’re going to get anything done.\\nThink of it this way: Say all the middle-schoolers\\nin your town wanted to have lunch together.\\nAt the same time. On Taco Tuesday.\\nIf you crammed everyone into one giant lunchroom,\\nyou’d have a lot of interesting and talented\\npeople in one place, yes, but you’d also\\nnever get a handle on them with everyone shoved\\nand talking, and jostling, and flirting, and farting, and\\nand stepping on toes, and haggling over tater tots.\\nIt’d be like a John Hughes movie gone horribly\\nwrong.\\nSo what you need is a solid system of organization\\n-- like, separate lunch lines for separate\\ngroups of kids, or tables that arrange students\\nin alphabetical order. Your body is like that\\ncrowded lunchroom -- it needs order for it\\nto function. It can’t have your liver all\\nup in your brain, or squished between your\\nkidneys. Your organs and their systems need\\ntheir personal space.\\nAnd that is where your unsung epithelial tissue\\nsteps in, like a burly gym teacher with a\\nwhistle and plan.\\nThis is the tissue that lines, and covers,\\nand generally organizes your body, creating\\norder from what would be chaos. Without\\nepithelial tissue, you’d essentially be\\na mushy pile of unarticulated goo.\\nWhen we talk about your epithelial tissue\\nwe’re really talking about two things. There’s\\nthe “proper” epithelium, which covers\\nand lines your outer and inner body. And then\\nthere is the glandular epithelium, which forms\\nglands and secretes hormones and other substances.\\nYour primary epithelium protects your whole\\nbody, inside and out. It’s a great organizer,\\npartitioning everything into separate but\\nconnected units. It covers the surface of\\nyour body when it combines with connective\\ntissue to create skin, but it also lines your\\nbody cavities, and coats the internal and\\nexternal walls of many of your organs.\\nBecause, your body doesn’t just interact\\nwith the outside world through your skin.\\nWe -- and all animals from the simplest worms\\non up the Tree of Life -- are really just\\ntubes, corridors of tissue running from a\\nmouth to an anus. Epithelial tissue covers\\nboth the inside and the outside of that you-tube.\\nTo get a better sense of what I mean, take\\na look at this balloon. The latex is like\\nthe outer covering of your body, in part made\\nup of epithelial tissue. It separates what’s\\ninside the balloon from the rest of the world.\\nNow if I stick my hand in there, you can see\\nhow, while the tissue still forms an outer\\nlayer, it also folds in on itself, creating\\na continuous barrier that lines all of the\\ncavities.\\nIn a very similar way, the membranes covering\\nyour lungs for example, are actually invaginations\\nof your epithelium -- where the tissue that\\nmakes up your you-tube folds to form a cavity\\n-- just like this balloon when I push my fingers\\ninto it.\\nThe epithelium does all this to protect your\\ndeeper layers of tissue from injury or infection\\n-- like for example, by lining your stomach\\nwith epithelial cells that produce mucus,\\nso that you don’t digest yourself along\\nwith your lunch.\\nAnd all of your epithelial tissues are avascular\\n-- meaning they don't have a blood supply.\\nInstead they rely on the blood supply in the\\nsupporting connective tissues around them\\nfor the materials they need.\\nBut these tissues come in different varieties\\nthat serve different purposes.\\nAnd a lot of what classifies the different\\ntypes of epithelium boils down to their shape\\nand layering -- that is, the shape of the individual\\ncells, and the number of layers that they form in.\\nAnd there are three basic shapes -- squamous,\\ncuboidal, and columnar -- and they’re pretty\\neasy to tell apart because (unlike most terminology\\nyou’ll be exposed to in this course) their\\nnames actually describe what they look like!\\nSquamous cells are flat. Their name means\\n“scale,” and they look kind of squished,\\nlike fish scales. Even the cell’s nucleus, which gets\\ndarkly stained and is usually easy to see, is flattened.\\nCuboidal cells are -- you guessed it -- cube-ish\\nshaped, about as tall as they are wide. They\\nabsorb nutrients and produce secretions, like\\nsweat. Their nucleus is pretty circular.\\nColumnar cells are tall and thick and look\\nlike columns, and they cushion underlying tissues.\\nAnd as if they were cuboidal cells that got stretched\\ntall, their nuclei also are stretched into an ellipse.\\nAnd here’s yet another instance where the\\nform of a structure relates to it purpose.\\nIn this case, the shape of each kind of epithelial\\ncell correlates with its function.\\nFor example, squamous cells are flat, which\\nmakes it easy for materials like oxygen to\\nmove across them to the other side. So we\\nsee these kinds of cells where absorption\\nor transportation is most important, like in say,\\nthe air sacs of your lungs, or in your blood vessels.\\nBut if the cells that make up a tissue need\\nto, say, brew up hormones or mucus, they’ll\\nneed the internal machinery it takes to make\\nthat stuff, and that takes up a lot of space.\\nSo those cells can’t be flat -- they’ve\\ngot to be cuboidal or columnar to accommodate\\nmore room for taking care of business.\\nSo that stomach lining that I mentioned, for\\nexample, is made up of big columnar cells,\\nbecause they have to make and secrete mucus.\\nBut when it comes to what kind of cells are\\nfound where, an important thing to keep in\\nmind is the fact that cells are, biologically\\nspeaking, expensive -- they take a lot of\\ntime and energy and raw materials to make.\\nSo in places where you lose a lot of cells,\\nlike your outer skin, or in your mouth, you\\nhave more of squamous cells -- because they’re\\nsmaller, and flatter, and therefore cheaper,\\npractically disposable -- rather than big,\\nexpensive cuboidal or columnar ones.\\nWhich brings me to the other trait that we use\\nto classify epithelial tissue -- its layering.\\nA simple epithelium has only one layer of\\ncells.\\nA stratified type has multiple layers set\\non top of each other, like the bricks and\\nmortar of a wall.\\nAnd pseudostratified epithelium is mostly\\njust one layer, but the cells can be different\\nshapes and sizes, and the nuclei can be at\\nlots of different levels, so it looks sort\\nof messy and multilayered, even though it\\nreally isn’t.\\nAnd when we describe a type of epithelial\\ntissue, like in a lab setting, we cite both\\nits shape and its layering. You can think\\nof a tissue’s first name as its number of\\nlayers, and its last name as the shape of\\nits cells.\\nFor example, a simple squamous epithelium\\nrefers to a single layer of flat, scale-like\\ncells, like the lining of the air sacs deep\\nin your lungs.\\nA stratified cuboidal tissue, meanwhile, would\\nhave layers of cube-shaped cells, like the\\nlinings of the ducts that leak sweat and spit.\\nWhen you put the shape of a cell together\\nwith its type of layering, you can begin to\\nsee how both traits inform the function of\\nyour epithelial tissue.\\nLet’s go back to those squamous cells. Because\\nthey’re thin, like scales, it takes many\\nlayers of them to form a tissue that’s thick\\nenough to offer protection. So you end up\\nwith a really dense stack of cells that, on an\\nindividual basis, are small and cheap to make.\\nThat’s why when I, like, scratch my hand\\nor hit the inside of my mouth with a toothbrush,\\nI can lose a couple of layers, no big deal.\\nThose squamous cells are a dime a dozen. There's\\nstill lots of layers left. Plus, epithelial\\ntissue regenerates really quickly.\\nBut if you, say, get tossed off a moving motorcycle,\\nyou’ll lose a lot more layers. And if your\\nroad rash is really bad, you could scrape all\\nthe way through all of those squamous\\ncells, down to the nerves and the blood and\\nall of the underlying connective tissue, plowing\\nthrough a lot more expensive cells, and wind\\nup with a real, like,\\ncan-you-please-get-me-to-the-hospital-I-need-to-get-to-the-hospital kind of problem.\\nOf course, when we talk about epithelial tissue\\nprotecting you, it’s not always protecting\\nyou from the outside world. It also creates\\norder among all of those rambunctious seventh\\ngraders that are your organs. And here it’s\\nimportant to note that all of your epithelial\\ncells are polar, meaning they have distinct\\nsides. The apical or upper side, is exposed\\nto either the outside of your body, or whatever\\ninternal cavity it’s lining. The basal side,\\nor inner surface, is tightly attached to the\\nbasement membrane, a thin layer of mostly\\ncollagen fibers that helps hold the epithelium\\ntogether, and anchors it to the next-deeper\\nlayer -- your connective tissue.\\nMany of these boundaries that the cells form\\naren’t absolute -- instead, they’re selectively\\npermeable, allowing for some level of absorption,\\nfiltration, and excretion of substances.\\nThe tissue lining your small intestines, for\\ninstance, is what allows you to absorb nutrients\\nthrough diffusion and active transport, so\\nthat's pretty important. And all of your urinary\\nwaste gets filtered through a different epithelial\\nlining in your kidneys.\\nSo by now you’re probably starting to get\\nit: Every interaction that your body has with\\nthe rest of the physical universe is made\\npossible somehow by your epithelium.\\nBut that is not all!\\nRemember: Your glands are also made up\\nlargely of epithelial tissue, so it ALSO plays\\na big role in facilitating all of your secretions\\n-- from sweat and mucus, to hormones and enzymes.\\nThis glandular epithelium forms two different\\nkinds of glands -- your endocrine glands,\\nthe ones that secrete hormones right into\\nyour bloodstream or to nearby cells,\\nand your exocrine glands, the type that secrete\\ntheir juices into tubes or ducts that lead\\nto the outside of the body, or the inside\\nof your tube, rather than right into the blood.\\nThe hormone thyroxin, for example, is secreted\\nby an endocrine gland -- your thyroid -- and it\\nneeds to be distributed throughout the entire body so\\nthat it can stimulate the metabolism in all of your cells.\\nSome examples of exocrine secretions would\\nbe sweat, saliva, mucus, stomach acid, and\\nmilk, if you’re lactating.\\nAll those secretions go right into ducts where\\nthey’re ferried to an epithelial surface\\n-- which could be your outer layer of skin,\\nin the case of your sweat, or the edge of\\nyour stomach lining if it’s your stomach\\nacid.\\nSo, hey the system works. And it’s due in\\nlarge part to the humorless gym teacher that\\nis your epithelial tissue.\\nIt may not always be a ton of fun, but darn\\nit, it gets results.\\nToday you learned how your unsung epithelial\\ntissue creates the inner and outer boundaries\\nthat keep you alive. We looked at how proper\\nepithelial tissue is classified by both layering\\n-- simple or stratified -- and shape -- squamous,\\ncuboidal, or columnar -- and how the structure\\nof these tissue types match their function.\\nWe also talked about how epithelial cells\\nare polar, having both apical and basal sides,\\nand are selectively permeable, and lastly\\nwe took a brief look at how our glandular\\nepithelial tissue forms both out endocrine\\nand exocrine glands.\\nThanks for watching, especially to all of\\nour Subbable subscribers, who make Crash Course\\npossible. To find out how you can become a\\nsupporter, just go to subbable.com.\\nThis episode was written by Kathleen Yale,\\nedited by Blake de Pastino, and our consultant,\\nis Dr. Brandon Jackson. Our director and editor\\nis Nicholas Jenkins, the script supervisor\\nis Sarah Mesimer, the sound designer is Michael\\nAranda, and the graphics team is Thought Café.\""
      ]
     },
     "execution_count": 23,
     "metadata": {},
     "output_type": "execute_result"
    }
   ],
   "source": [
    "ytt_api = YouTubeTranscriptApi()\n",
    "fetched_transcript = ytt_api.fetch(yt_video_id)\n",
    "formatted_transcript = TextFormatter().format_transcript(fetched_transcript)\n",
    "formatted_transcript"
   ]
  },
  {
   "cell_type": "code",
   "execution_count": 24,
   "id": "30dd1825",
   "metadata": {},
   "outputs": [
    {
     "data": {
      "text/plain": [
       "Document(metadata={'video_id': 'lUe_RI_m-Vg'}, page_content=\"As any teacher will tell you, when you’re\\ndealing with certain elements that are being\\nfeisty and fidgety and basically not cooperating,\\nthere’s pretty much only one thing you can\\ndo: you gotta keep ‘em separated.\\nAnd there’s a whole system of biological\\ntissue that’s dedicated to doing just that\\n-- creating order where there would otherwise\\nbe total mayhem.\\nBecause you and pretty much every other animal\\nis made up of incredibly complex, feisty, fidgety\\nsystems that need to be kept apart to some\\nextent if they’re going to get anything done.\\nThink of it this way: Say all the middle-schoolers\\nin your town wanted to have lunch together.\\nAt the same time. On Taco Tuesday.\\nIf you crammed everyone into one giant lunchroom,\\nyou’d have a lot of interesting and talented\\npeople in one place, yes, but you’d also\\nnever get a handle on them with everyone shoved\\nand talking, and jostling, and flirting, and farting, and\\nand stepping on toes, and haggling over tater tots.\\nIt’d be like a John Hughes movie gone horribly\\nwrong.\\nSo what you need is a solid system of organization\\n-- like, separate lunch lines for separate\\ngroups of kids, or tables that arrange students\\nin alphabetical order. Your body is like that\\ncrowded lunchroom -- it needs order for it\\nto function. It can’t have your liver all\\nup in your brain, or squished between your\\nkidneys. Your organs and their systems need\\ntheir personal space.\\nAnd that is where your unsung epithelial tissue\\nsteps in, like a burly gym teacher with a\\nwhistle and plan.\\nThis is the tissue that lines, and covers,\\nand generally organizes your body, creating\\norder from what would be chaos. Without\\nepithelial tissue, you’d essentially be\\na mushy pile of unarticulated goo.\\nWhen we talk about your epithelial tissue\\nwe’re really talking about two things. There’s\\nthe “proper” epithelium, which covers\\nand lines your outer and inner body. And then\\nthere is the glandular epithelium, which forms\\nglands and secretes hormones and other substances.\\nYour primary epithelium protects your whole\\nbody, inside and out. It’s a great organizer,\\npartitioning everything into separate but\\nconnected units. It covers the surface of\\nyour body when it combines with connective\\ntissue to create skin, but it also lines your\\nbody cavities, and coats the internal and\\nexternal walls of many of your organs.\\nBecause, your body doesn’t just interact\\nwith the outside world through your skin.\\nWe -- and all animals from the simplest worms\\non up the Tree of Life -- are really just\\ntubes, corridors of tissue running from a\\nmouth to an anus. Epithelial tissue covers\\nboth the inside and the outside of that you-tube.\\nTo get a better sense of what I mean, take\\na look at this balloon. The latex is like\\nthe outer covering of your body, in part made\\nup of epithelial tissue. It separates what’s\\ninside the balloon from the rest of the world.\\nNow if I stick my hand in there, you can see\\nhow, while the tissue still forms an outer\\nlayer, it also folds in on itself, creating\\na continuous barrier that lines all of the\\ncavities.\\nIn a very similar way, the membranes covering\\nyour lungs for example, are actually invaginations\\nof your epithelium -- where the tissue that\\nmakes up your you-tube folds to form a cavity\\n-- just like this balloon when I push my fingers\\ninto it.\\nThe epithelium does all this to protect your\\ndeeper layers of tissue from injury or infection\\n-- like for example, by lining your stomach\\nwith epithelial cells that produce mucus,\\nso that you don’t digest yourself along\\nwith your lunch.\\nAnd all of your epithelial tissues are avascular\\n-- meaning they don't have a blood supply.\\nInstead they rely on the blood supply in the\\nsupporting connective tissues around them\\nfor the materials they need.\\nBut these tissues come in different varieties\\nthat serve different purposes.\\nAnd a lot of what classifies the different\\ntypes of epithelium boils down to their shape\\nand layering -- that is, the shape of the individual\\ncells, and the number of layers that they form in.\\nAnd there are three basic shapes -- squamous,\\ncuboidal, and columnar -- and they’re pretty\\neasy to tell apart because (unlike most terminology\\nyou’ll be exposed to in this course) their\\nnames actually describe what they look like!\\nSquamous cells are flat. Their name means\\n“scale,” and they look kind of squished,\\nlike fish scales. Even the cell’s nucleus, which gets\\ndarkly stained and is usually easy to see, is flattened.\\nCuboidal cells are -- you guessed it -- cube-ish\\nshaped, about as tall as they are wide. They\\nabsorb nutrients and produce secretions, like\\nsweat. Their nucleus is pretty circular.\\nColumnar cells are tall and thick and look\\nlike columns, and they cushion underlying tissues.\\nAnd as if they were cuboidal cells that got stretched\\ntall, their nuclei also are stretched into an ellipse.\\nAnd here’s yet another instance where the\\nform of a structure relates to it purpose.\\nIn this case, the shape of each kind of epithelial\\ncell correlates with its function.\\nFor example, squamous cells are flat, which\\nmakes it easy for materials like oxygen to\\nmove across them to the other side. So we\\nsee these kinds of cells where absorption\\nor transportation is most important, like in say,\\nthe air sacs of your lungs, or in your blood vessels.\\nBut if the cells that make up a tissue need\\nto, say, brew up hormones or mucus, they’ll\\nneed the internal machinery it takes to make\\nthat stuff, and that takes up a lot of space.\\nSo those cells can’t be flat -- they’ve\\ngot to be cuboidal or columnar to accommodate\\nmore room for taking care of business.\\nSo that stomach lining that I mentioned, for\\nexample, is made up of big columnar cells,\\nbecause they have to make and secrete mucus.\\nBut when it comes to what kind of cells are\\nfound where, an important thing to keep in\\nmind is the fact that cells are, biologically\\nspeaking, expensive -- they take a lot of\\ntime and energy and raw materials to make.\\nSo in places where you lose a lot of cells,\\nlike your outer skin, or in your mouth, you\\nhave more of squamous cells -- because they’re\\nsmaller, and flatter, and therefore cheaper,\\npractically disposable -- rather than big,\\nexpensive cuboidal or columnar ones.\\nWhich brings me to the other trait that we use\\nto classify epithelial tissue -- its layering.\\nA simple epithelium has only one layer of\\ncells.\\nA stratified type has multiple layers set\\non top of each other, like the bricks and\\nmortar of a wall.\\nAnd pseudostratified epithelium is mostly\\njust one layer, but the cells can be different\\nshapes and sizes, and the nuclei can be at\\nlots of different levels, so it looks sort\\nof messy and multilayered, even though it\\nreally isn’t.\\nAnd when we describe a type of epithelial\\ntissue, like in a lab setting, we cite both\\nits shape and its layering. You can think\\nof a tissue’s first name as its number of\\nlayers, and its last name as the shape of\\nits cells.\\nFor example, a simple squamous epithelium\\nrefers to a single layer of flat, scale-like\\ncells, like the lining of the air sacs deep\\nin your lungs.\\nA stratified cuboidal tissue, meanwhile, would\\nhave layers of cube-shaped cells, like the\\nlinings of the ducts that leak sweat and spit.\\nWhen you put the shape of a cell together\\nwith its type of layering, you can begin to\\nsee how both traits inform the function of\\nyour epithelial tissue.\\nLet’s go back to those squamous cells. Because\\nthey’re thin, like scales, it takes many\\nlayers of them to form a tissue that’s thick\\nenough to offer protection. So you end up\\nwith a really dense stack of cells that, on an\\nindividual basis, are small and cheap to make.\\nThat’s why when I, like, scratch my hand\\nor hit the inside of my mouth with a toothbrush,\\nI can lose a couple of layers, no big deal.\\nThose squamous cells are a dime a dozen. There's\\nstill lots of layers left. Plus, epithelial\\ntissue regenerates really quickly.\\nBut if you, say, get tossed off a moving motorcycle,\\nyou’ll lose a lot more layers. And if your\\nroad rash is really bad, you could scrape all\\nthe way through all of those squamous\\ncells, down to the nerves and the blood and\\nall of the underlying connective tissue, plowing\\nthrough a lot more expensive cells, and wind\\nup with a real, like,\\ncan-you-please-get-me-to-the-hospital-I-need-to-get-to-the-hospital kind of problem.\\nOf course, when we talk about epithelial tissue\\nprotecting you, it’s not always protecting\\nyou from the outside world. It also creates\\norder among all of those rambunctious seventh\\ngraders that are your organs. And here it’s\\nimportant to note that all of your epithelial\\ncells are polar, meaning they have distinct\\nsides. The apical or upper side, is exposed\\nto either the outside of your body, or whatever\\ninternal cavity it’s lining. The basal side,\\nor inner surface, is tightly attached to the\\nbasement membrane, a thin layer of mostly\\ncollagen fibers that helps hold the epithelium\\ntogether, and anchors it to the next-deeper\\nlayer -- your connective tissue.\\nMany of these boundaries that the cells form\\naren’t absolute -- instead, they’re selectively\\npermeable, allowing for some level of absorption,\\nfiltration, and excretion of substances.\\nThe tissue lining your small intestines, for\\ninstance, is what allows you to absorb nutrients\\nthrough diffusion and active transport, so\\nthat's pretty important. And all of your urinary\\nwaste gets filtered through a different epithelial\\nlining in your kidneys.\\nSo by now you’re probably starting to get\\nit: Every interaction that your body has with\\nthe rest of the physical universe is made\\npossible somehow by your epithelium.\\nBut that is not all!\\nRemember: Your glands are also made up\\nlargely of epithelial tissue, so it ALSO plays\\na big role in facilitating all of your secretions\\n-- from sweat and mucus, to hormones and enzymes.\\nThis glandular epithelium forms two different\\nkinds of glands -- your endocrine glands,\\nthe ones that secrete hormones right into\\nyour bloodstream or to nearby cells,\\nand your exocrine glands, the type that secrete\\ntheir juices into tubes or ducts that lead\\nto the outside of the body, or the inside\\nof your tube, rather than right into the blood.\\nThe hormone thyroxin, for example, is secreted\\nby an endocrine gland -- your thyroid -- and it\\nneeds to be distributed throughout the entire body so\\nthat it can stimulate the metabolism in all of your cells.\\nSome examples of exocrine secretions would\\nbe sweat, saliva, mucus, stomach acid, and\\nmilk, if you’re lactating.\\nAll those secretions go right into ducts where\\nthey’re ferried to an epithelial surface\\n-- which could be your outer layer of skin,\\nin the case of your sweat, or the edge of\\nyour stomach lining if it’s your stomach\\nacid.\\nSo, hey the system works. And it’s due in\\nlarge part to the humorless gym teacher that\\nis your epithelial tissue.\\nIt may not always be a ton of fun, but darn\\nit, it gets results.\\nToday you learned how your unsung epithelial\\ntissue creates the inner and outer boundaries\\nthat keep you alive. We looked at how proper\\nepithelial tissue is classified by both layering\\n-- simple or stratified -- and shape -- squamous,\\ncuboidal, or columnar -- and how the structure\\nof these tissue types match their function.\\nWe also talked about how epithelial cells\\nare polar, having both apical and basal sides,\\nand are selectively permeable, and lastly\\nwe took a brief look at how our glandular\\nepithelial tissue forms both out endocrine\\nand exocrine glands.\\nThanks for watching, especially to all of\\nour Subbable subscribers, who make Crash Course\\npossible. To find out how you can become a\\nsupporter, just go to subbable.com.\\nThis episode was written by Kathleen Yale,\\nedited by Blake de Pastino, and our consultant,\\nis Dr. Brandon Jackson. Our director and editor\\nis Nicholas Jenkins, the script supervisor\\nis Sarah Mesimer, the sound designer is Michael\\nAranda, and the graphics team is Thought Café.\")"
      ]
     },
     "execution_count": 24,
     "metadata": {},
     "output_type": "execute_result"
    }
   ],
   "source": [
    "from langchain_text_splitters import RecursiveCharacterTextSplitter\n",
    "from langchain.schema import Document\n",
    "\n",
    "docs = Document(page_content=formatted_transcript,\n",
    "                metadata={\n",
    "                \"video_id\": yt_video_id,\n",
    "    })\n",
    "docs"
   ]
  },
  {
   "cell_type": "code",
   "execution_count": 19,
   "id": "d89b879f",
   "metadata": {},
   "outputs": [
    {
     "data": {
      "text/plain": [
       "[Document(metadata={'video_id': 'i5tR3csCWYo'}, page_content='Check out this amoeba.\\nPretty nice. Kind of a rugged, no-frills life\\nform.\\nThe thing about amoebas is that they do everything\\nin the same place. They take in and digest\\ntheir food, and reject their waste, and get\\nthrough everything else they need to do, all\\nwithin a single cell.\\nThey don’t need trillions of different cells\\nworking together to keep them alive. They\\ndon’t need a bunch of structures to keep\\ntheir stomachs away from their hearts away\\nfrom their lungs. They’re content to just\\nblob around and live the simple life.\\nBut we humans, along with the rest of the'),\n",
       " Document(metadata={'video_id': 'i5tR3csCWYo'}, page_content='blob around and live the simple life.\\nBut we humans, along with the rest of the\\nmulticellular animal kingdom, are substantially\\nmore complex. We’re all about cell specialization,\\nand compartmentalizing our bodies.\\nEvery cell in your body has its own specific\\njob description related to maintaining your\\nhomeostasis, that balance of materials and\\nenergy that keeps you alive.\\nAnd those cells are the most basic building\\nblocks in the hierarchy of increasingly complex\\nstructures that make you what you are.\\nWe covered a lot of cell biology in Crash\\nCourse Bio, so if you haven’t taken'),\n",
       " Document(metadata={'video_id': 'i5tR3csCWYo'}, page_content='We covered a lot of cell biology in Crash\\nCourse Bio, so if you haven’t taken\\nthat course with us yet, or if you just want\\na refresher, you can go over there now.\\nI will still be here when you get back.\\nBut with that ground already covered, we’re\\ngoing to skip ahead to when groups of similar\\ncells come together to perform a common function,\\nin our tissues.\\nTissues are like the fabric of your body.\\nIn fact, the term literally means “woven.”\\nAnd when two or more tissues combine, they\\nform our organs. Your kidneys, lungs, and\\nyour liver, and other organs are all made'),\n",
       " Document(metadata={'video_id': 'i5tR3csCWYo'}, page_content='form our organs. Your kidneys, lungs, and\\nyour liver, and other organs are all made\\nof different types of tissues.\\nBut what function a certain part of your organ\\nperforms, depends on what kind of tissue it’s\\nmade of. In other words, the type of tissue\\ndefines its function.\\nAnd we have four primary tissues, each with\\na different job:\\nour nervous tissue provides us with control\\nand communication,\\nmuscle tissues give us movement,\\nepithelial tissues line our body cavities and organs,\\nand essentially cover and protect the body,\\nwhile connective tissues provide support.'),\n",
       " Document(metadata={'video_id': 'i5tR3csCWYo'}, page_content='and essentially cover and protect the body,\\nwhile connective tissues provide support.\\nIf our cells are like words, then our tissues,\\nor our groups of cells, are like sentences,\\nthe beginning of a language.\\nAnd your journey to becoming fluent in this\\nlanguage of your body -- your ability to read,\\nunderstand, and interpret it -- begins today.\\nAlthough physicians and artists have been\\nexploring human anatomy for centuries, histology\\n-- the study of our tissues -- is a much younger\\ndiscipline.\\nThat’s because, in order to get all up in\\na body’s tissues, we needed microscopes,'),\n",
       " Document(metadata={'video_id': 'i5tR3csCWYo'}, page_content='discipline.\\nThat’s because, in order to get all up in\\na body’s tissues, we needed microscopes,\\nand they weren’t invented until the 1590’s,\\nwhen Hans and Zacharias Jansen, a father-son\\npair of Dutch spectacle makers, put some lenses\\nin a tube and changed science forever.\\nBut as ground-breaking as those first microscopes\\nwere then, they were little better than something\\nyou’d get in a cereal box today -- that is to\\nsay, low in magnification and pretty blurry.\\nSo the heyday of microscopes didn’t really\\nget crackin’ until the late 1600s, when\\nanother Dutchman -- Anton van Leeuwenhoek'),\n",
       " Document(metadata={'video_id': 'i5tR3csCWYo'}, page_content='get crackin’ until the late 1600s, when\\nanother Dutchman -- Anton van Leeuwenhoek\\n-- became the first to make and use truly\\nhigh-power microscopes.\\nWhile other scopes at the time were lucky\\nto get 50-times magnification, Van Leeuwenhoek’s\\nhad up to 270-times magnifying power, identifying\\nthings as small as one thousandth of a millimeter.\\nUsing his new scope, Leeuwenhoek was the first\\nto observe microorganisms, bacteria, spermatozoa,\\nand muscle fibers, earning himself the illustrious\\ntitle of The Father of Microbiology for his troubles.\\nBut even then, his amazing new optics weren’t'),\n",
       " Document(metadata={'video_id': 'i5tR3csCWYo'}, page_content='title of The Father of Microbiology for his troubles.\\nBut even then, his amazing new optics weren’t\\nquite enough to launch the study of histology\\nas we know it, because most individual cells in a\\ntissue weren’t visible in your average scope.\\nIt took another breakthrough -- the invention\\nof stains and dyes -- to make that possible.\\nTo actually see a specimen under a microscope,\\nyou have to first preserve, or fix it, then\\nslice it into super-thin, deli-meat-like sections\\nthat let the light through, and then stain\\nthat material to enhance its contrasts.'),\n",
       " Document(metadata={'video_id': 'i5tR3csCWYo'}, page_content='that let the light through, and then stain\\nthat material to enhance its contrasts.\\nBecause different stains latch on to different\\ncellular structures, this process lets us\\nsee what’s going on in any given tissue\\nsample, down to the specific parts of each\\nindividual cell.\\nSome stains let us clearly see cells’ nuclei\\n-- and as you learn to identify different\\ntissues, the location, shape, size, or even\\nabsence of nuclei will be very important.\\nNow, Leeuwenhoek was technically the first\\nperson to use a dye -- one he made from saffron\\n-- to study biological structures under the'),\n",
       " Document(metadata={'video_id': 'i5tR3csCWYo'}, page_content='person to use a dye -- one he made from saffron\\n-- to study biological structures under the\\nscope in 1673, because, the dude was a boss.\\nBut it really wasn’t until nearly 200 years\\nlater, in the 1850s, that the we really got the\\nfirst true histological stain.\\nAnd for that we can thank German anatomist\\nJoseph von Gerlach.\\nBack in his day, a few scientists had been\\ntinkering with staining tissues, especially\\nwith a compound called carmine -- a red dye\\nderived from the scales of a crushed-up insects.\\nGerlach and others had some luck using carmine\\nto highlight different kinds of cell structures,'),\n",
       " Document(metadata={'video_id': 'i5tR3csCWYo'}, page_content='Gerlach and others had some luck using carmine\\nto highlight different kinds of cell structures,\\nbut where Gerlach got stuck was in exploring\\nthe tissues of the brain.\\nFor some reason, he couldn’t get the dye\\nto stain brain cells, and the more stain he\\nused, the worse the results were.\\nSo one day, he tried making a diluted version\\nof the stain -- thinning out the carmine with\\nammonia and gelatin -- and wetted a sample\\nof brain tissue with it.\\nAlas, still nothing.\\nSo he closed up his lab for the night, and,\\nas the story goes, in his disappointment,\\nhe forgot to remove the slice of someone’s'),\n",
       " Document(metadata={'video_id': 'i5tR3csCWYo'}, page_content='as the story goes, in his disappointment,\\nhe forgot to remove the slice of someone’s\\ncerebellum that he had left sitting in the\\nHe returned the next morning to find the long,\\nslow soak in diluted carmine had stained all\\nkinds of structures inside the tissue -- including\\nthe nuclei of individual brain cells and what\\nhe described as “fibers” that seemed to\\nlink the cells together.\\nIt would be another 30 years before we knew\\nwhat a neuron really looked like, but Gerlach’s\\nfamous neural stain was a breakthrough\\nin our understanding of nervous tissue.'),\n",
       " Document(metadata={'video_id': 'i5tR3csCWYo'}, page_content='famous neural stain was a breakthrough\\nin our understanding of nervous tissue.\\nAND it showed other anatomists how the combination\\nof the right microscope and the right stain\\ncould open up our understanding of all of our\\nbody’s tissues and how they make life possible.\\nToday, we recognize the cells Gerlach studied\\nas a type of nervous tissue, which forms,\\nyou guessed it, the nervous system -- that\\nis, the brain and spinal cord of the central\\nnervous system, and the network of nerves\\nin your peripheral nervous system. Combined,\\nthey regulate and control all of your body’s\\nfunctions.'),\n",
       " Document(metadata={'video_id': 'i5tR3csCWYo'}, page_content='they regulate and control all of your body’s\\nfunctions.\\nThat basic nervous tissue has two big functions\\n-- sensing stimuli and sending electrical\\nimpulses throughout the body, often in response\\nto those stimuli.\\nAnd this tissue also is made up of two different\\ncell types -- neurons and glial cells.\\nNeurons are the specialized building blocks\\nof the nervous system. Your brain alone contains\\nbillions of them -- they’re what generate\\nand conduct the electrochemical nerve impulses\\nthat let you think, and dream, and eat nachos,\\nor do anything.\\nBut they’re also all over your body. If'),\n",
       " Document(metadata={'video_id': 'i5tR3csCWYo'}, page_content='or do anything.\\nBut they’re also all over your body. If\\nyou’re petting a fuzzy puppy, or you touch\\na cold piece of metal, or rough sandpaper,\\nit’s the neurons in your skin’s nervous\\ntissue that sense that stimuli, and send the\\nmessage to your brain to say, like, “cuddly!”\\nor “Cold!” or “why am I petting sandpaper?!”\\nNo matter where they are, though, each neuron\\nhas the same anatomy, consisting of the cell\\nbody, the dendrites, and the axon.\\nThe cell body, or soma, is the neuron’s\\nlife support. It’s got all the necessary\\ngoods like a nucleus, mitochondria, and DNA.'),\n",
       " Document(metadata={'video_id': 'i5tR3csCWYo'}, page_content='life support. It’s got all the necessary\\ngoods like a nucleus, mitochondria, and DNA.\\nThe bushy dendrites look like the trees that they’re\\nnamed after, and collect signals from other\\ncells to send back to the soma. They are the\\nlistening end.\\nThe long, rope-like axon is the transmission\\ncable -- it carries messages to other neurons,\\nand muscles, and glands. Together all of these\\nthings combine to form nerves of all different\\nsizes laced throughout your body.\\nThe other type of nervous cells, the glial\\ncells, are like the neuron’s pit crew, providing'),\n",
       " Document(metadata={'video_id': 'i5tR3csCWYo'}, page_content=\"The other type of nervous cells, the glial\\ncells, are like the neuron’s pit crew, providing\\nsupport, insulation, and protection, and tethering\\nthem to blood vessels.\\nBut sensing the world around you isn't much\\nuse if you can't do anything about it, which\\nis why we've also got muscle tissues.\\nUnlike your nervous tissues, your muscle tissues\\ncan contract and move, which is super handy\\nif you want to walk or chew or breathe.\\nMuscle tissue is well-vascularized, meaning\\nit’s got a lot of blood coming and going,\\nand it comes in three flavors: skeletal, cardiac,\\nand smooth.\"),\n",
       " Document(metadata={'video_id': 'i5tR3csCWYo'}, page_content='and it comes in three flavors: skeletal, cardiac,\\nand smooth.\\nYour skeletal muscle tissue is what attaches\\nto all the bones in your skeleton, supporting\\nyou and keeping your posture in line.\\nSkeletal muscle tissues pull on bones or skin\\nas they contract to make your body move.\\nYou can see how skeletal muscle tissue has\\nlong, cylindrical cells. It looks kind of\\nclean and smooth, with obvious striations\\nthat resemble little pin stripes. Many of\\nthe actions made possible in this tissue -- like\\nyour wide range of facial expressions or pantheon\\nof dance moves -- are voluntary.'),\n",
       " Document(metadata={'video_id': 'i5tR3csCWYo'}, page_content='your wide range of facial expressions or pantheon\\nof dance moves -- are voluntary.\\nYour cardiac muscle tissue, on the other hand,\\nworks involuntarily. Which is great, because\\nit forms the walls of your heart, and it would\\nbe really distracting to have to remind it\\nto contract once every second. This tissue\\nis only found in your heart, and its regular\\ncontractions are what propel blood through\\nyour circulatory system.\\nCardiac muscle tissue is also striped, or\\nstriated, but unlike skeletal muscle tissue,\\ntheir cells are generally uninucleate, meaning'),\n",
       " Document(metadata={'video_id': 'i5tR3csCWYo'}, page_content='striated, but unlike skeletal muscle tissue,\\ntheir cells are generally uninucleate, meaning\\nthat they have just one nucleus. You can also\\nsee that this tissue is made of a series of\\nsort of messy cell shapes that look they divide\\nand converge, rather than running parallel\\nto each other.\\nBut where these cells join end-to-end you\\ncan see darker striations, These are the glue\\nthat hold the muscle cells together when they\\ncontract, and they contain pores so that electrical\\nand chemical signals can pass from one cell\\nto the next.\\nAnd finally, we’ve got the smooth muscle'),\n",
       " Document(metadata={'video_id': 'i5tR3csCWYo'}, page_content='and chemical signals can pass from one cell\\nto the next.\\nAnd finally, we’ve got the smooth muscle\\ntissue, which lines the walls of most of your\\nblood vessels and hollow organs, like those\\nin your digestive and urinary tracts, and\\nyour uterus, if you have one.\\nIt’s called smooth because, as you can see,\\nunlike the other two, it lacks striation.\\nIts cells are sort of short and tapered at the\\nends, and are arranged to form tight-knit sheets.\\nThis tissue is also involuntary, because like\\nthe heart, these organs squeeze substances\\nthrough by alternately contracting and relaxing,'),\n",
       " Document(metadata={'video_id': 'i5tR3csCWYo'}, page_content='the heart, these organs squeeze substances\\nthrough by alternately contracting and relaxing,\\nwithout you having to think about it.\\nNow, one thing that every A&P student has\\nto be able to do is identify different types\\nof muscle tissue from a stained specimen.\\nSo Pop Quiz, hot shot!\\nSee if you can match the following tissue\\nstains with their corresponding muscle tissue\\ntypes. Don’t forget to pay attention to\\nstriations and cell-shape!\\nLet’s begin with this. Which type of tissue\\nis it?\\nThe cells are striated. Each cell only has\\none nucleus. But the giveaway here is probably'),\n",
       " Document(metadata={'video_id': 'i5tR3csCWYo'}, page_content=\"is it?\\nThe cells are striated. Each cell only has\\none nucleus. But the giveaway here is probably\\nthe cells’ branching structure; where their\\noffshoots meet with other nearby cells where\\nthey form those intercalated discs. It's cardiac\\nmuscle.\\nOr these -- they’re uninucleate cells, too,\\nand they also are packed together pretty closely\\ntogether. But…no striations. They’re smooth,\\nso this is smooth muscle.\\nLeaving us with an easy one -- long, and straight\\ncells with obvious striations AND multiple\\nnuclei. This could only be skeletal muscle\\ntissue.\\nIf you got all of them right, congratulations\"),\n",
       " Document(metadata={'video_id': 'i5tR3csCWYo'}, page_content='nuclei. This could only be skeletal muscle\\ntissue.\\nIf you got all of them right, congratulations\\nand give yourself a pat on your superior posterior\\nmedial skeletal muscles -- you’re well on\\nyour to understanding histology.\\nToday you learned that cells combine to form\\nour nervous, muscle, epithelial, and connective\\ntissues. We looked into how the history of\\nhistology started with microscopes and stains,\\nand how our nervous tissue forms our nervous\\nsystem. You also learned how your skeletal,\\nsmooth, and cardiac muscle tissue facilitates\\nall your movements, both voluntary and involuntary,'),\n",
       " Document(metadata={'video_id': 'i5tR3csCWYo'}, page_content='smooth, and cardiac muscle tissue facilitates\\nall your movements, both voluntary and involuntary,\\nand how to identify each in a sample.\\nThanks for watching, especially to all of\\nour Subbable subscribers, who make Crash Course\\npossible to themselves and also to everyone\\nelse in the world. To find out how you can\\nbecome a supporter, just go to subbable dot\\ncom.\\nThis episode was written by Kathleen Yale,\\nedited by Blake de Pastino, and our consultant\\nis Dr. Brandon Jackson. Our director and editor\\nis Nicholas Jenkins, the script supervisor\\nand sound designer is Michael Aranda, and'),\n",
       " Document(metadata={'video_id': 'i5tR3csCWYo'}, page_content='is Nicholas Jenkins, the script supervisor\\nand sound designer is Michael Aranda, and\\nthe graphics team is Thought Café.')]"
      ]
     },
     "execution_count": 19,
     "metadata": {},
     "output_type": "execute_result"
    }
   ],
   "source": [
    "text_splitter = RecursiveCharacterTextSplitter(\n",
    "    chunk_size=600,  # chunk size (characters)\n",
    "    chunk_overlap=100,  # chunk overlap (characters)\n",
    ")\n",
    "all_splits = text_splitter.split_documents([docs])\n",
    "all_splits"
   ]
  },
  {
   "cell_type": "code",
   "execution_count": 20,
   "id": "482f04b7",
   "metadata": {},
   "outputs": [],
   "source": [
    "def add_transcript_to_vectorstore(docs, video_id):  \n",
    "\n",
    "    existing_docs = vectorstore.get(\n",
    "        where={\"video_id\": video_id},\n",
    "        include=['metadatas']\n",
    "    )\n",
    "\n",
    "    if existing_docs['ids']:\n",
    "        print(f\"Video {video_id} already exists in the collection.\")\n",
    "        return\n",
    "\n",
    "\n",
    "    text_splitter = RecursiveCharacterTextSplitter(\n",
    "     chunk_size=600,  # chunk size (characters)\n",
    "     chunk_overlap=100,  # chunk overlap (characters)\n",
    "    )\n",
    "    all_splits = text_splitter.split_documents([docs])\n",
    "\n",
    "    vectorstore.add_documents(all_splits)\n",
    "\n",
    "    print(f\"Added transcript for video {video_id} to the collection.\")"
   ]
  },
  {
   "cell_type": "code",
   "execution_count": 25,
   "id": "7f865e26",
   "metadata": {},
   "outputs": [
    {
     "name": "stdout",
     "output_type": "stream",
     "text": [
      "Added transcript for video lUe_RI_m-Vg to the collection.\n"
     ]
    }
   ],
   "source": [
    "add_transcript_to_vectorstore(docs, yt_video_id)"
   ]
  },
  {
   "cell_type": "code",
   "execution_count": null,
   "id": "85da010c",
   "metadata": {},
   "outputs": [],
   "source": [
    "# docs_to_delete = vectorstore.get(\n",
    "#     where={\"video_id\": yt_video_id}\n",
    "# )"
   ]
  },
  {
   "cell_type": "code",
   "execution_count": null,
   "id": "22dcae14",
   "metadata": {},
   "outputs": [],
   "source": [
    "# ids = docs_to_delete['ids']\n",
    "# vectorstore.delete(ids=ids)"
   ]
  },
  {
   "cell_type": "code",
   "execution_count": 26,
   "id": "2812fe5c",
   "metadata": {},
   "outputs": [
    {
     "data": {
      "text/plain": [
       "{'ids': ['b867110c-e24f-47b6-b2a3-57ad24e3cb9f',\n",
       "  '35a1e96c-6087-44ca-9ce8-9f6caaeeedc9',\n",
       "  'b1853b4a-69b5-4e83-ad58-02d56b678c4d',\n",
       "  '0bcc573d-350e-45a2-901b-85afb6bb1d4f',\n",
       "  '716e6af4-1bdc-4cfd-b596-5df749096b3c',\n",
       "  'a2327daf-4bed-4cb3-9224-a7e60dd169f5',\n",
       "  '252c6fbc-42d5-400e-9e33-586d2e8ba744',\n",
       "  'fdc8aa73-0b6d-4ee2-9220-e9a6b3ddcf81',\n",
       "  'ab95feab-2170-4ca9-9378-e32b50a6d004',\n",
       "  '5bac68be-d2c8-4e15-a1e4-09f5c8b63591',\n",
       "  'de400dfd-5236-493f-b05e-9d5d2b52a9ed',\n",
       "  '4004839b-cd59-42e5-9f25-f32f7eeec968',\n",
       "  'eb61afd7-0e34-4698-9cc1-310b4300cf21',\n",
       "  '595ad680-d6f9-41f2-a18e-a7ddfc1d12ac',\n",
       "  '940cc9a8-e4d6-461f-a35d-cf491462cad9',\n",
       "  '19fce1e6-1cc0-4c67-a520-fb7ac8c21bc0',\n",
       "  '16a845ed-b2ba-4e3f-a1e5-8d720f38d2da',\n",
       "  '66ade472-3619-4232-9c36-3582156d9ab4',\n",
       "  'f4cd6bcd-c597-400e-8b5f-7e07e46fabe0',\n",
       "  '4143f135-9f13-4502-b59c-5009bb822e5c',\n",
       "  '19b67e83-a32d-47dd-8b8a-ac5204556706',\n",
       "  '00b7d928-7f46-4778-8bf5-4a463b698af4',\n",
       "  'da45c4cf-510f-4578-93d3-a4fb5a38ebee',\n",
       "  '3c4b1013-3787-4a0e-b505-a8d69306cca1'],\n",
       " 'embeddings': array([[ 1.97619926e-02, -2.64496338e-02, -4.81695607e-02, ...,\n",
       "          9.54738818e-03,  1.74272880e-02,  1.64957494e-02],\n",
       "        [ 2.02767216e-02, -3.73526700e-02, -4.57797088e-02, ...,\n",
       "          2.94035431e-02,  1.62053090e-02,  1.48460912e-02],\n",
       "        [-3.47577664e-03,  1.50364870e-02, -3.12601887e-02, ...,\n",
       "         -1.00108783e-03,  4.66415286e-02,  1.69807132e-02],\n",
       "        ...,\n",
       "        [-3.20498571e-02, -3.32392403e-03, -2.17631347e-02, ...,\n",
       "          2.92454404e-03, -6.02555880e-03, -1.03486693e-02],\n",
       "        [-2.17634439e-02, -1.27216913e-02, -3.14061604e-02, ...,\n",
       "          6.52690418e-03, -8.96225902e-05,  7.64636649e-03],\n",
       "        [ 3.90220899e-03, -1.48705654e-02, -3.74331698e-02, ...,\n",
       "         -3.76576209e-03, -1.31296739e-02, -1.19694350e-02]]),\n",
       " 'documents': ['As any teacher will tell you, when you’re\\ndealing with certain elements that are being\\nfeisty and fidgety and basically not cooperating,\\nthere’s pretty much only one thing you can\\ndo: you gotta keep ‘em separated.\\nAnd there’s a whole system of biological\\ntissue that’s dedicated to doing just that\\n-- creating order where there would otherwise\\nbe total mayhem.\\nBecause you and pretty much every other animal\\nis made up of incredibly complex, feisty, fidgety\\nsystems that need to be kept apart to some\\nextent if they’re going to get anything done.\\nThink of it this way: Say all the middle-schoolers',\n",
       "  'extent if they’re going to get anything done.\\nThink of it this way: Say all the middle-schoolers\\nin your town wanted to have lunch together.\\nAt the same time. On Taco Tuesday.\\nIf you crammed everyone into one giant lunchroom,\\nyou’d have a lot of interesting and talented\\npeople in one place, yes, but you’d also\\nnever get a handle on them with everyone shoved\\nand talking, and jostling, and flirting, and farting, and\\nand stepping on toes, and haggling over tater tots.\\nIt’d be like a John Hughes movie gone horribly\\nwrong.\\nSo what you need is a solid system of organization',\n",
       "  'wrong.\\nSo what you need is a solid system of organization\\n-- like, separate lunch lines for separate\\ngroups of kids, or tables that arrange students\\nin alphabetical order. Your body is like that\\ncrowded lunchroom -- it needs order for it\\nto function. It can’t have your liver all\\nup in your brain, or squished between your\\nkidneys. Your organs and their systems need\\ntheir personal space.\\nAnd that is where your unsung epithelial tissue\\nsteps in, like a burly gym teacher with a\\nwhistle and plan.\\nThis is the tissue that lines, and covers,\\nand generally organizes your body, creating',\n",
       "  'This is the tissue that lines, and covers,\\nand generally organizes your body, creating\\norder from what would be chaos. Without\\nepithelial tissue, you’d essentially be\\na mushy pile of unarticulated goo.\\nWhen we talk about your epithelial tissue\\nwe’re really talking about two things. There’s\\nthe “proper” epithelium, which covers\\nand lines your outer and inner body. And then\\nthere is the glandular epithelium, which forms\\nglands and secretes hormones and other substances.\\nYour primary epithelium protects your whole\\nbody, inside and out. It’s a great organizer,',\n",
       "  'Your primary epithelium protects your whole\\nbody, inside and out. It’s a great organizer,\\npartitioning everything into separate but\\nconnected units. It covers the surface of\\nyour body when it combines with connective\\ntissue to create skin, but it also lines your\\nbody cavities, and coats the internal and\\nexternal walls of many of your organs.\\nBecause, your body doesn’t just interact\\nwith the outside world through your skin.\\nWe -- and all animals from the simplest worms\\non up the Tree of Life -- are really just\\ntubes, corridors of tissue running from a\\nmouth to an anus. Epithelial tissue covers',\n",
       "  'tubes, corridors of tissue running from a\\nmouth to an anus. Epithelial tissue covers\\nboth the inside and the outside of that you-tube.\\nTo get a better sense of what I mean, take\\na look at this balloon. The latex is like\\nthe outer covering of your body, in part made\\nup of epithelial tissue. It separates what’s\\ninside the balloon from the rest of the world.\\nNow if I stick my hand in there, you can see\\nhow, while the tissue still forms an outer\\nlayer, it also folds in on itself, creating\\na continuous barrier that lines all of the\\ncavities.\\nIn a very similar way, the membranes covering',\n",
       "  'a continuous barrier that lines all of the\\ncavities.\\nIn a very similar way, the membranes covering\\nyour lungs for example, are actually invaginations\\nof your epithelium -- where the tissue that\\nmakes up your you-tube folds to form a cavity\\n-- just like this balloon when I push my fingers\\ninto it.\\nThe epithelium does all this to protect your\\ndeeper layers of tissue from injury or infection\\n-- like for example, by lining your stomach\\nwith epithelial cells that produce mucus,\\nso that you don’t digest yourself along\\nwith your lunch.\\nAnd all of your epithelial tissues are avascular',\n",
       "  \"with your lunch.\\nAnd all of your epithelial tissues are avascular\\n-- meaning they don't have a blood supply.\\nInstead they rely on the blood supply in the\\nsupporting connective tissues around them\\nfor the materials they need.\\nBut these tissues come in different varieties\\nthat serve different purposes.\\nAnd a lot of what classifies the different\\ntypes of epithelium boils down to their shape\\nand layering -- that is, the shape of the individual\\ncells, and the number of layers that they form in.\\nAnd there are three basic shapes -- squamous,\\ncuboidal, and columnar -- and they’re pretty\",\n",
       "  'And there are three basic shapes -- squamous,\\ncuboidal, and columnar -- and they’re pretty\\neasy to tell apart because (unlike most terminology\\nyou’ll be exposed to in this course) their\\nnames actually describe what they look like!\\nSquamous cells are flat. Their name means\\n“scale,” and they look kind of squished,\\nlike fish scales. Even the cell’s nucleus, which gets\\ndarkly stained and is usually easy to see, is flattened.\\nCuboidal cells are -- you guessed it -- cube-ish\\nshaped, about as tall as they are wide. They\\nabsorb nutrients and produce secretions, like',\n",
       "  'shaped, about as tall as they are wide. They\\nabsorb nutrients and produce secretions, like\\nsweat. Their nucleus is pretty circular.\\nColumnar cells are tall and thick and look\\nlike columns, and they cushion underlying tissues.\\nAnd as if they were cuboidal cells that got stretched\\ntall, their nuclei also are stretched into an ellipse.\\nAnd here’s yet another instance where the\\nform of a structure relates to it purpose.\\nIn this case, the shape of each kind of epithelial\\ncell correlates with its function.\\nFor example, squamous cells are flat, which\\nmakes it easy for materials like oxygen to',\n",
       "  'For example, squamous cells are flat, which\\nmakes it easy for materials like oxygen to\\nmove across them to the other side. So we\\nsee these kinds of cells where absorption\\nor transportation is most important, like in say,\\nthe air sacs of your lungs, or in your blood vessels.\\nBut if the cells that make up a tissue need\\nto, say, brew up hormones or mucus, they’ll\\nneed the internal machinery it takes to make\\nthat stuff, and that takes up a lot of space.\\nSo those cells can’t be flat -- they’ve\\ngot to be cuboidal or columnar to accommodate\\nmore room for taking care of business.',\n",
       "  'got to be cuboidal or columnar to accommodate\\nmore room for taking care of business.\\nSo that stomach lining that I mentioned, for\\nexample, is made up of big columnar cells,\\nbecause they have to make and secrete mucus.\\nBut when it comes to what kind of cells are\\nfound where, an important thing to keep in\\nmind is the fact that cells are, biologically\\nspeaking, expensive -- they take a lot of\\ntime and energy and raw materials to make.\\nSo in places where you lose a lot of cells,\\nlike your outer skin, or in your mouth, you\\nhave more of squamous cells -- because they’re',\n",
       "  'like your outer skin, or in your mouth, you\\nhave more of squamous cells -- because they’re\\nsmaller, and flatter, and therefore cheaper,\\npractically disposable -- rather than big,\\nexpensive cuboidal or columnar ones.\\nWhich brings me to the other trait that we use\\nto classify epithelial tissue -- its layering.\\nA simple epithelium has only one layer of\\ncells.\\nA stratified type has multiple layers set\\non top of each other, like the bricks and\\nmortar of a wall.\\nAnd pseudostratified epithelium is mostly\\njust one layer, but the cells can be different\\nshapes and sizes, and the nuclei can be at',\n",
       "  'just one layer, but the cells can be different\\nshapes and sizes, and the nuclei can be at\\nlots of different levels, so it looks sort\\nof messy and multilayered, even though it\\nreally isn’t.\\nAnd when we describe a type of epithelial\\ntissue, like in a lab setting, we cite both\\nits shape and its layering. You can think\\nof a tissue’s first name as its number of\\nlayers, and its last name as the shape of\\nits cells.\\nFor example, a simple squamous epithelium\\nrefers to a single layer of flat, scale-like\\ncells, like the lining of the air sacs deep\\nin your lungs.',\n",
       "  'cells, like the lining of the air sacs deep\\nin your lungs.\\nA stratified cuboidal tissue, meanwhile, would\\nhave layers of cube-shaped cells, like the\\nlinings of the ducts that leak sweat and spit.\\nWhen you put the shape of a cell together\\nwith its type of layering, you can begin to\\nsee how both traits inform the function of\\nyour epithelial tissue.\\nLet’s go back to those squamous cells. Because\\nthey’re thin, like scales, it takes many\\nlayers of them to form a tissue that’s thick\\nenough to offer protection. So you end up\\nwith a really dense stack of cells that, on an',\n",
       "  \"enough to offer protection. So you end up\\nwith a really dense stack of cells that, on an\\nindividual basis, are small and cheap to make.\\nThat’s why when I, like, scratch my hand\\nor hit the inside of my mouth with a toothbrush,\\nI can lose a couple of layers, no big deal.\\nThose squamous cells are a dime a dozen. There's\\nstill lots of layers left. Plus, epithelial\\ntissue regenerates really quickly.\\nBut if you, say, get tossed off a moving motorcycle,\\nyou’ll lose a lot more layers. And if your\\nroad rash is really bad, you could scrape all\\nthe way through all of those squamous\",\n",
       "  'road rash is really bad, you could scrape all\\nthe way through all of those squamous\\ncells, down to the nerves and the blood and\\nall of the underlying connective tissue, plowing\\nthrough a lot more expensive cells, and wind\\nup with a real, like,\\ncan-you-please-get-me-to-the-hospital-I-need-to-get-to-the-hospital kind of problem.\\nOf course, when we talk about epithelial tissue\\nprotecting you, it’s not always protecting\\nyou from the outside world. It also creates\\norder among all of those rambunctious seventh\\ngraders that are your organs. And here it’s\\nimportant to note that all of your epithelial',\n",
       "  'graders that are your organs. And here it’s\\nimportant to note that all of your epithelial\\ncells are polar, meaning they have distinct\\nsides. The apical or upper side, is exposed\\nto either the outside of your body, or whatever\\ninternal cavity it’s lining. The basal side,\\nor inner surface, is tightly attached to the\\nbasement membrane, a thin layer of mostly\\ncollagen fibers that helps hold the epithelium\\ntogether, and anchors it to the next-deeper\\nlayer -- your connective tissue.\\nMany of these boundaries that the cells form\\naren’t absolute -- instead, they’re selectively',\n",
       "  \"Many of these boundaries that the cells form\\naren’t absolute -- instead, they’re selectively\\npermeable, allowing for some level of absorption,\\nfiltration, and excretion of substances.\\nThe tissue lining your small intestines, for\\ninstance, is what allows you to absorb nutrients\\nthrough diffusion and active transport, so\\nthat's pretty important. And all of your urinary\\nwaste gets filtered through a different epithelial\\nlining in your kidneys.\\nSo by now you’re probably starting to get\\nit: Every interaction that your body has with\\nthe rest of the physical universe is made\",\n",
       "  'it: Every interaction that your body has with\\nthe rest of the physical universe is made\\npossible somehow by your epithelium.\\nBut that is not all!\\nRemember: Your glands are also made up\\nlargely of epithelial tissue, so it ALSO plays\\na big role in facilitating all of your secretions\\n-- from sweat and mucus, to hormones and enzymes.\\nThis glandular epithelium forms two different\\nkinds of glands -- your endocrine glands,\\nthe ones that secrete hormones right into\\nyour bloodstream or to nearby cells,\\nand your exocrine glands, the type that secrete\\ntheir juices into tubes or ducts that lead',\n",
       "  'and your exocrine glands, the type that secrete\\ntheir juices into tubes or ducts that lead\\nto the outside of the body, or the inside\\nof your tube, rather than right into the blood.\\nThe hormone thyroxin, for example, is secreted\\nby an endocrine gland -- your thyroid -- and it\\nneeds to be distributed throughout the entire body so\\nthat it can stimulate the metabolism in all of your cells.\\nSome examples of exocrine secretions would\\nbe sweat, saliva, mucus, stomach acid, and\\nmilk, if you’re lactating.\\nAll those secretions go right into ducts where\\nthey’re ferried to an epithelial surface',\n",
       "  'All those secretions go right into ducts where\\nthey’re ferried to an epithelial surface\\n-- which could be your outer layer of skin,\\nin the case of your sweat, or the edge of\\nyour stomach lining if it’s your stomach\\nacid.\\nSo, hey the system works. And it’s due in\\nlarge part to the humorless gym teacher that\\nis your epithelial tissue.\\nIt may not always be a ton of fun, but darn\\nit, it gets results.\\nToday you learned how your unsung epithelial\\ntissue creates the inner and outer boundaries\\nthat keep you alive. We looked at how proper\\nepithelial tissue is classified by both layering',\n",
       "  'that keep you alive. We looked at how proper\\nepithelial tissue is classified by both layering\\n-- simple or stratified -- and shape -- squamous,\\ncuboidal, or columnar -- and how the structure\\nof these tissue types match their function.\\nWe also talked about how epithelial cells\\nare polar, having both apical and basal sides,\\nand are selectively permeable, and lastly\\nwe took a brief look at how our glandular\\nepithelial tissue forms both out endocrine\\nand exocrine glands.\\nThanks for watching, especially to all of\\nour Subbable subscribers, who make Crash Course',\n",
       "  'Thanks for watching, especially to all of\\nour Subbable subscribers, who make Crash Course\\npossible. To find out how you can become a\\nsupporter, just go to subbable.com.\\nThis episode was written by Kathleen Yale,\\nedited by Blake de Pastino, and our consultant,\\nis Dr. Brandon Jackson. Our director and editor\\nis Nicholas Jenkins, the script supervisor\\nis Sarah Mesimer, the sound designer is Michael\\nAranda, and the graphics team is Thought Café.'],\n",
       " 'uris': None,\n",
       " 'included': ['embeddings', 'metadatas', 'documents'],\n",
       " 'data': None,\n",
       " 'metadatas': [{'video_id': 'lUe_RI_m-Vg'},\n",
       "  {'video_id': 'lUe_RI_m-Vg'},\n",
       "  {'video_id': 'lUe_RI_m-Vg'},\n",
       "  {'video_id': 'lUe_RI_m-Vg'},\n",
       "  {'video_id': 'lUe_RI_m-Vg'},\n",
       "  {'video_id': 'lUe_RI_m-Vg'},\n",
       "  {'video_id': 'lUe_RI_m-Vg'},\n",
       "  {'video_id': 'lUe_RI_m-Vg'},\n",
       "  {'video_id': 'lUe_RI_m-Vg'},\n",
       "  {'video_id': 'lUe_RI_m-Vg'},\n",
       "  {'video_id': 'lUe_RI_m-Vg'},\n",
       "  {'video_id': 'lUe_RI_m-Vg'},\n",
       "  {'video_id': 'lUe_RI_m-Vg'},\n",
       "  {'video_id': 'lUe_RI_m-Vg'},\n",
       "  {'video_id': 'lUe_RI_m-Vg'},\n",
       "  {'video_id': 'lUe_RI_m-Vg'},\n",
       "  {'video_id': 'lUe_RI_m-Vg'},\n",
       "  {'video_id': 'lUe_RI_m-Vg'},\n",
       "  {'video_id': 'lUe_RI_m-Vg'},\n",
       "  {'video_id': 'lUe_RI_m-Vg'},\n",
       "  {'video_id': 'lUe_RI_m-Vg'},\n",
       "  {'video_id': 'lUe_RI_m-Vg'},\n",
       "  {'video_id': 'lUe_RI_m-Vg'},\n",
       "  {'video_id': 'lUe_RI_m-Vg'}]}"
      ]
     },
     "execution_count": 26,
     "metadata": {},
     "output_type": "execute_result"
    }
   ],
   "source": [
    "retrieved_data = vectorstore.get(\n",
    "        where={\"video_id\": yt_video_id},\n",
    "        include=['embeddings', 'metadatas', 'documents']\n",
    "    )\n",
    "retrieved_data"
   ]
  },
  {
   "cell_type": "code",
   "execution_count": 28,
   "id": "34c020a4",
   "metadata": {},
   "outputs": [
    {
     "name": "stdout",
     "output_type": "stream",
     "text": [
      "['b867110c-e24f-47b6-b2a3-57ad24e3cb9f',\n",
      " '35a1e96c-6087-44ca-9ce8-9f6caaeeedc9',\n",
      " 'b1853b4a-69b5-4e83-ad58-02d56b678c4d',\n",
      " '0bcc573d-350e-45a2-901b-85afb6bb1d4f',\n",
      " '716e6af4-1bdc-4cfd-b596-5df749096b3c',\n",
      " 'a2327daf-4bed-4cb3-9224-a7e60dd169f5',\n",
      " '252c6fbc-42d5-400e-9e33-586d2e8ba744',\n",
      " 'fdc8aa73-0b6d-4ee2-9220-e9a6b3ddcf81',\n",
      " 'ab95feab-2170-4ca9-9378-e32b50a6d004',\n",
      " '5bac68be-d2c8-4e15-a1e4-09f5c8b63591',\n",
      " 'de400dfd-5236-493f-b05e-9d5d2b52a9ed',\n",
      " '4004839b-cd59-42e5-9f25-f32f7eeec968',\n",
      " 'eb61afd7-0e34-4698-9cc1-310b4300cf21',\n",
      " '595ad680-d6f9-41f2-a18e-a7ddfc1d12ac',\n",
      " '940cc9a8-e4d6-461f-a35d-cf491462cad9',\n",
      " '19fce1e6-1cc0-4c67-a520-fb7ac8c21bc0',\n",
      " '16a845ed-b2ba-4e3f-a1e5-8d720f38d2da',\n",
      " '66ade472-3619-4232-9c36-3582156d9ab4',\n",
      " 'f4cd6bcd-c597-400e-8b5f-7e07e46fabe0',\n",
      " '4143f135-9f13-4502-b59c-5009bb822e5c',\n",
      " '19b67e83-a32d-47dd-8b8a-ac5204556706',\n",
      " '00b7d928-7f46-4778-8bf5-4a463b698af4',\n",
      " 'da45c4cf-510f-4578-93d3-a4fb5a38ebee',\n",
      " '3c4b1013-3787-4a0e-b505-a8d69306cca1']\n"
     ]
    }
   ],
   "source": [
    "import pprint\n",
    "pprint.pprint(retrieved_data['ids'])"
   ]
  },
  {
   "cell_type": "code",
   "execution_count": 31,
   "id": "6794f3a0",
   "metadata": {},
   "outputs": [
    {
     "name": "stdout",
     "output_type": "stream",
     "text": [
      "('extent if they’re going to get anything done.\\n'\n",
      " 'Think of it this way: Say all the middle-schoolers\\n'\n",
      " 'in your town wanted to have lunch together.\\n'\n",
      " 'At the same time. On Taco Tuesday.\\n'\n",
      " 'If you crammed everyone into one giant lunchroom,\\n'\n",
      " 'you’d have a lot of interesting and talented\\n'\n",
      " 'people in one place, yes, but you’d also\\n'\n",
      " 'never get a handle on them with everyone shoved\\n'\n",
      " 'and talking, and jostling, and flirting, and farting, and\\n'\n",
      " 'and stepping on toes, and haggling over tater tots.\\n'\n",
      " 'It’d be like a John Hughes movie gone horribly\\n'\n",
      " 'wrong.\\n'\n",
      " 'So what you need is a solid system of organization')\n"
     ]
    }
   ],
   "source": [
    "pprint.pprint(retrieved_data['documents'][1])"
   ]
  },
  {
   "cell_type": "code",
   "execution_count": 32,
   "id": "23ebec9b",
   "metadata": {},
   "outputs": [
    {
     "name": "stdout",
     "output_type": "stream",
     "text": [
      "{'video_id': 'lUe_RI_m-Vg'}\n"
     ]
    }
   ],
   "source": [
    "pprint.pprint(retrieved_data['metadatas'][1])"
   ]
  },
  {
   "cell_type": "code",
   "execution_count": 36,
   "id": "1a9b4d39",
   "metadata": {},
   "outputs": [
    {
     "name": "stdout",
     "output_type": "stream",
     "text": [
      "array([ 2.02767216e-02, -3.73526700e-02, -4.57797088e-02,  1.39983022e-03,\n",
      "        4.26122360e-02,  5.33134327e-04, -1.96096525e-02, -1.66711975e-02,\n",
      "        1.50419287e-02,  2.49343030e-02, -2.85947113e-03,  1.74481813e-02,\n",
      "       -1.78330038e-02,  7.35757733e-03,  1.79889295e-02, -1.67594012e-02,\n",
      "        2.37109270e-02, -1.86084863e-03,  1.45586412e-02, -3.12208477e-02,\n",
      "       -2.71998961e-02,  2.01372635e-02,  1.47835566e-02, -2.33463962e-02,\n",
      "        3.36043048e-03,  1.65260434e-02,  2.60578487e-02, -9.13023129e-02,\n",
      "       -1.53100246e-03, -1.48780765e-02, -6.78033009e-03,  2.79478338e-02,\n",
      "       -3.46727297e-02,  2.58520916e-02,  2.32001767e-02, -3.33851911e-02,\n",
      "       -3.86952683e-02, -3.76281776e-02,  1.00376811e-02,  2.02598087e-02,\n",
      "       -3.60782444e-02, -1.68623291e-02, -1.87314507e-02,  6.26044646e-02,\n",
      "       -1.34810503e-03, -1.09708179e-02, -5.40625863e-02,  3.08256242e-02,\n",
      "       -3.30382888e-03, -6.95325732e-02,  7.35818828e-03,  1.77978911e-02,\n",
      "        4.97833565e-02, -4.31750529e-02, -1.26046846e-02, -1.13178631e-02,\n",
      "        4.27805036e-02, -4.93359752e-02, -3.76465544e-02, -1.38002886e-02,\n",
      "        1.50357857e-02,  2.17028223e-02,  1.67212281e-02, -1.17186988e-02,\n",
      "       -1.67702027e-02, -4.91781756e-02, -6.15779571e-02,  2.27926131e-02,\n",
      "        7.49138892e-02,  3.40820216e-02, -2.27229707e-02, -1.15523050e-02,\n",
      "        3.60544398e-02,  2.74909590e-03, -5.68515062e-02, -1.34851009e-01,\n",
      "       -3.43816541e-02,  2.83469316e-02,  2.79947538e-02,  1.97790954e-02,\n",
      "        6.94953650e-03, -1.07376061e-01, -6.05753027e-02, -3.82653996e-02,\n",
      "       -1.03212185e-01,  1.93944943e-04, -2.04913877e-02,  3.44655141e-02,\n",
      "       -2.31735446e-02,  5.15333079e-02, -2.71826889e-02,  1.00708213e-02,\n",
      "        4.90235873e-02, -1.94604732e-02,  5.58348931e-03,  7.27636665e-02,\n",
      "       -3.26312445e-02, -6.94753677e-02,  1.73968468e-02, -3.14313881e-02,\n",
      "       -1.94503218e-02, -2.74120029e-02, -5.60984761e-02,  1.71912424e-02,\n",
      "        6.29667267e-02,  6.15768181e-03, -2.10901629e-02,  3.68671082e-02,\n",
      "       -5.88263327e-04,  7.53532024e-03, -1.00646049e-01,  6.57162210e-03,\n",
      "       -1.10005476e-02, -3.49450074e-02,  4.64567021e-02, -2.06539221e-02,\n",
      "        2.94027906e-02,  4.33622263e-02, -7.01336050e-03, -1.53238541e-02,\n",
      "        4.26277556e-02, -3.63648161e-02,  2.51061451e-02, -3.69669683e-02,\n",
      "       -2.48954957e-03, -3.29620093e-02,  8.54288228e-03,  1.49019444e-02,\n",
      "        5.12993857e-02,  4.54776362e-03, -1.99416390e-04, -4.11005989e-02,\n",
      "       -1.20665152e-02, -2.34893970e-02,  8.13324451e-02,  5.61207943e-02,\n",
      "        4.94811088e-02, -3.61281671e-02,  6.78692339e-03,  1.50857689e-02,\n",
      "        1.66299369e-03, -7.33433757e-03,  2.08179969e-02, -1.51422210e-02,\n",
      "       -1.87449474e-02,  6.96407259e-02, -5.31318299e-02, -2.25592125e-02,\n",
      "        4.71586660e-02, -4.59331758e-02, -6.93218922e-03,  5.11347549e-04,\n",
      "       -3.28940786e-02, -1.05659375e-02,  1.81383137e-02, -3.54242511e-03,\n",
      "       -1.27508808e-02,  2.21016128e-02,  1.31525937e-02, -2.31473278e-02,\n",
      "        2.47002691e-02,  8.33039060e-02, -2.67808139e-02,  5.50293103e-02,\n",
      "       -1.37641476e-02, -1.14946961e-02, -1.24068363e-02, -2.64315829e-02,\n",
      "        9.87116146e-05,  4.44348827e-02, -2.46362574e-02,  3.13870162e-02,\n",
      "       -5.38273789e-02, -3.92873883e-02, -2.58703772e-02, -2.34985892e-02,\n",
      "        5.39150834e-03,  1.23154828e-02, -3.12535651e-02,  5.48439436e-02,\n",
      "       -3.66411433e-02, -3.98821011e-02,  2.73054130e-02,  4.10083979e-02,\n",
      "        4.97305132e-02, -1.32259550e-02,  8.04555342e-02, -4.26406153e-02,\n",
      "       -2.08138535e-03,  3.46723944e-02, -4.62412462e-03, -4.55590449e-02,\n",
      "       -6.53166920e-02,  5.17766981e-04, -1.44618526e-02,  4.78110947e-02,\n",
      "       -2.90873721e-02,  2.77973376e-02,  2.25829147e-02, -1.34173250e-02,\n",
      "       -5.67681948e-03,  6.65796548e-02,  4.98859864e-03,  2.80068200e-02,\n",
      "        5.43297417e-02,  7.26653216e-03,  3.98400985e-02, -3.84458005e-02,\n",
      "       -6.04938045e-02,  2.33945511e-02, -2.57200506e-02,  1.20229311e-02,\n",
      "        8.44516791e-03,  1.34278443e-02,  2.25598607e-02,  5.47253825e-02,\n",
      "        2.90591223e-03,  1.65787544e-02,  5.16083613e-02, -7.81885814e-03,\n",
      "       -2.54517309e-02,  1.96387339e-02, -2.33712066e-02,  3.64168175e-02,\n",
      "       -1.30556868e-02, -1.28238741e-02, -3.41057554e-02, -3.30894324e-03,\n",
      "       -3.54325771e-03, -4.70267572e-02, -1.39270822e-04,  7.80518726e-02,\n",
      "        1.62746161e-02, -1.43243931e-02,  5.39486334e-02,  3.17097940e-02,\n",
      "       -1.58755071e-02,  2.02854909e-02,  1.25819221e-02,  5.12187257e-02,\n",
      "       -5.07357679e-02,  3.69389132e-02,  1.72775928e-02, -2.27339822e-03,\n",
      "       -7.10783824e-02, -2.00723559e-02, -1.85241271e-02,  3.32483836e-02,\n",
      "        1.60180572e-02,  4.45821658e-02,  2.68663503e-02, -6.12256601e-02,\n",
      "       -2.68989224e-02,  1.92474946e-02, -6.81026056e-02,  1.03924815e-02,\n",
      "       -6.97234273e-02,  1.40599515e-02, -4.03942354e-02, -2.10241508e-02,\n",
      "        2.08088271e-02,  2.42840629e-02, -4.63498151e-03, -8.77399463e-03,\n",
      "       -1.83556986e-03, -1.10373991e-02, -1.48598189e-02, -1.70053113e-02,\n",
      "       -2.13030130e-02,  1.19762942e-02, -1.25973374e-02, -2.88579594e-02,\n",
      "        6.04143627e-02,  2.89691519e-02,  1.66577864e-02,  7.87198951e-04,\n",
      "        1.14078000e-02,  5.27806729e-02,  1.19091440e-02,  8.01913673e-04,\n",
      "        2.22080983e-02,  4.38812301e-02,  2.05967389e-02, -1.85385700e-02,\n",
      "       -2.60830354e-02,  1.88235585e-02, -5.03152423e-02, -4.86080460e-02,\n",
      "       -3.56657580e-02, -5.35362437e-02, -2.52121277e-02, -2.75129974e-02,\n",
      "        2.86458284e-02, -3.53551768e-02, -6.17509186e-02,  2.52981186e-02,\n",
      "       -5.34435101e-02, -2.06978549e-03, -1.93469189e-02, -4.41049971e-02,\n",
      "       -2.75926627e-02, -1.13175832e-01,  3.86771858e-02, -9.43261012e-02,\n",
      "       -5.35850972e-02, -1.41319521e-02, -4.23344262e-02, -1.47909969e-02,\n",
      "        4.36177962e-02, -7.37703964e-03,  4.24811468e-02, -1.81777459e-02,\n",
      "       -1.44023886e-02,  1.56215923e-02,  4.72516306e-02,  4.53933775e-02,\n",
      "       -1.55488690e-02, -2.13632919e-02, -4.52165492e-03,  9.56459844e-04,\n",
      "        9.15559998e-04,  7.05541968e-02,  2.37166975e-02,  2.66806106e-03,\n",
      "        3.12618725e-03,  4.70456891e-02, -4.39081267e-02,  5.71265467e-04,\n",
      "        1.30131636e-02,  5.38731962e-02,  5.41220419e-03,  1.49104446e-02,\n",
      "        6.62126904e-03,  8.93440563e-03, -9.42652347e-04, -1.43072670e-02,\n",
      "       -5.30670956e-02,  2.10951325e-02, -4.58592325e-02,  3.67967039e-02,\n",
      "        4.07861769e-02,  8.29369668e-03,  2.54110023e-02, -1.75326020e-02,\n",
      "        2.18235739e-02, -1.43743893e-02, -5.94249927e-02, -1.76246930e-02,\n",
      "        6.52890429e-02,  7.76614547e-02,  1.12479087e-02,  4.40570787e-02,\n",
      "       -2.87429504e-02,  2.26759817e-02,  7.65722804e-03,  2.25658668e-03,\n",
      "       -2.52955151e-03, -3.71494442e-02,  3.13113406e-02, -4.34955321e-02,\n",
      "       -4.75009456e-02, -2.23894184e-03, -4.49637771e-02, -1.09376665e-02,\n",
      "       -1.71180144e-02, -2.80950516e-02, -1.23514878e-02,  7.77196325e-03,\n",
      "        9.72496718e-03,  9.85714719e-02,  1.37463575e-02, -1.33580742e-02,\n",
      "        5.03986189e-03, -2.65795402e-02, -4.67549860e-02, -3.17495093e-02,\n",
      "       -1.16952322e-02, -5.28294109e-02,  3.82830277e-02, -1.18082417e-02,\n",
      "       -4.51082177e-03,  5.18531818e-03,  5.50676771e-02,  3.19815949e-02,\n",
      "        7.05486163e-02,  1.37038724e-02,  3.52590904e-02,  9.18521211e-02,\n",
      "        1.32360393e-02,  2.57757995e-02, -1.80030894e-02,  2.27064118e-02,\n",
      "        1.08644210e-01, -7.89802801e-03,  2.36688517e-02, -7.83998296e-02,\n",
      "        1.05793988e-02, -4.88725081e-02,  2.87601911e-02, -1.36010814e-02,\n",
      "       -1.85734257e-02, -7.09854737e-02, -3.35989445e-02, -2.71618161e-02,\n",
      "       -2.28636693e-02,  1.73800308e-02,  7.38195749e-03, -4.09413911e-02,\n",
      "       -2.25709192e-02, -2.19591390e-02, -8.75951815e-03,  1.12373140e-02,\n",
      "        1.01929568e-02, -4.27852087e-02, -3.80622670e-02, -5.35705946e-02,\n",
      "        3.20827775e-02, -1.80237833e-02, -4.66551603e-04,  1.60733517e-02,\n",
      "       -3.16286087e-02, -5.23318052e-02, -1.55922503e-03,  3.13425511e-02,\n",
      "       -9.07961279e-02, -3.09594795e-02,  1.44000314e-02,  1.73098873e-04,\n",
      "        1.19991265e-02,  8.97147809e-04,  5.45625128e-02, -1.75920576e-02,\n",
      "        1.48102716e-02, -1.00341178e-02,  1.75923284e-03, -3.41839157e-02,\n",
      "       -1.10968975e-02,  5.61618321e-02, -3.14084813e-02, -1.00245951e-02,\n",
      "        4.07837071e-02, -3.06833591e-02,  3.90777327e-02, -5.06704636e-02,\n",
      "        1.77806869e-04, -2.57233027e-02, -3.42508927e-02, -1.91823766e-02,\n",
      "        1.34106046e-02, -5.82277961e-02,  3.84737141e-02, -7.45850578e-02,\n",
      "       -5.32178879e-02, -4.71025035e-02,  1.73337187e-03,  2.16530287e-03,\n",
      "        3.74674350e-02,  4.71033789e-02, -2.11191773e-02, -3.18037383e-02,\n",
      "        8.39863252e-03, -1.54146459e-02, -6.33044541e-02, -4.75410707e-02,\n",
      "        2.74644308e-02, -5.42575784e-04,  2.67495476e-02, -1.28682638e-02,\n",
      "       -1.14795137e-02,  2.76402421e-02, -4.92080580e-03,  1.73604395e-02,\n",
      "        3.89082241e-03, -3.36572975e-02, -1.99409034e-02, -2.34913658e-02,\n",
      "       -4.13558818e-02,  3.41849811e-02, -4.40817364e-02, -1.33737670e-02,\n",
      "        2.31428668e-02,  5.97676495e-03,  2.48357859e-02, -1.97850466e-02,\n",
      "       -2.29961686e-02,  1.39832012e-02, -3.37546319e-02, -3.11101247e-02,\n",
      "       -2.67910007e-02,  7.03973174e-02,  6.54716569e-04, -1.98721839e-03,\n",
      "       -4.39141318e-02, -2.79215518e-02, -3.11528537e-02, -1.06057273e-02,\n",
      "        1.95131393e-03,  6.03365488e-02,  5.98938540e-02, -9.46235377e-04,\n",
      "        2.00115237e-03, -2.21700277e-02, -8.64610448e-03, -2.60182433e-02,\n",
      "        3.72491740e-02, -8.15283805e-02,  4.13801931e-02,  2.51243897e-02,\n",
      "        9.85370483e-03, -5.27929864e-04, -3.07454844e-03,  3.55986841e-02,\n",
      "       -2.37828195e-02, -1.26460800e-03,  5.45002855e-02, -1.19399540e-02,\n",
      "        4.16610856e-03, -2.24206280e-02,  7.02434825e-03,  4.19725254e-02,\n",
      "        1.89145580e-02,  3.50265428e-02, -6.85802549e-02, -1.45837839e-03,\n",
      "       -1.78060681e-03, -7.73020163e-02, -6.16566325e-03,  1.88674666e-02,\n",
      "       -7.25174174e-02,  2.91156117e-03, -1.29943369e-02,  8.07302743e-02,\n",
      "       -3.69956344e-02,  1.69312321e-02, -3.35268443e-03,  1.99806262e-02,\n",
      "        1.69844050e-02, -7.80288363e-03,  6.95221499e-03,  3.59935872e-02,\n",
      "        4.99406504e-03,  7.54450634e-03,  4.70177121e-02,  2.23870855e-02,\n",
      "       -4.52409945e-02, -1.59878994e-03,  5.08272238e-02, -6.91471025e-02,\n",
      "        1.00519536e-02, -1.56994946e-02, -1.23894978e-02,  3.45592946e-02,\n",
      "        1.75892524e-02, -4.15443815e-02,  1.29764332e-02, -1.86852012e-02,\n",
      "       -7.97765795e-03, -2.81139221e-02,  2.88482402e-02, -1.38419243e-02,\n",
      "       -3.05548646e-02,  5.55540062e-03, -3.33649628e-02,  2.50016581e-02,\n",
      "        5.96734695e-02,  2.54291836e-02,  2.33472255e-03, -6.22012429e-02,\n",
      "        2.34238431e-02, -2.18023174e-02, -2.44941767e-02, -8.11979081e-03,\n",
      "        2.92446706e-02,  1.93541907e-02,  7.83307329e-02, -2.66781263e-02,\n",
      "       -1.78685002e-02, -3.97788100e-02, -3.55458744e-02,  1.80136636e-02,\n",
      "        4.98273261e-02, -3.94433960e-02, -1.00389740e-03,  3.26187275e-02,\n",
      "       -1.52372464e-03,  9.16141551e-03,  4.39984314e-02,  2.57186349e-02,\n",
      "        3.66576873e-02,  3.58488858e-02, -3.05254683e-02,  4.30085994e-02,\n",
      "       -4.74356534e-03,  1.07718362e-02,  6.51005749e-03, -1.66997015e-02,\n",
      "        5.07134236e-02, -5.24235480e-02, -4.79437746e-02, -6.62664603e-03,\n",
      "        9.98165086e-03, -5.75586632e-02,  2.58287061e-02, -3.27343941e-02,\n",
      "        2.65502147e-02, -1.90147124e-02,  5.48907667e-02,  1.36510236e-02,\n",
      "        3.22834924e-02,  5.87244369e-02, -4.02921364e-02, -4.86743189e-02,\n",
      "       -1.32368309e-02, -6.80992976e-02,  2.20299722e-03, -5.26170731e-02,\n",
      "        5.53374700e-02,  3.63244899e-02,  7.28739752e-03, -4.67854440e-02,\n",
      "       -1.79656949e-02,  1.28742494e-02,  3.99196781e-02, -1.00377866e-03,\n",
      "        3.38645391e-02,  1.21639976e-02, -1.63101237e-02, -4.45851348e-02,\n",
      "        7.52057508e-02,  5.26081547e-02,  8.20358172e-02,  6.15097396e-02,\n",
      "        3.48111913e-02, -1.16108004e-02, -5.40139414e-02, -1.59320072e-03,\n",
      "        9.79646388e-03, -1.04663372e-02, -5.10132173e-03,  5.64871803e-02,\n",
      "       -1.77729111e-02,  8.54604319e-03,  1.97944045e-02, -5.96345169e-03,\n",
      "       -1.42199509e-02,  2.89218258e-02,  2.37097554e-02, -9.82223749e-02,\n",
      "       -3.47155109e-02,  2.40593813e-02, -6.51606023e-02,  2.30365787e-02,\n",
      "       -2.07755733e-02, -2.97430530e-03,  4.44799699e-02,  2.49706320e-02,\n",
      "       -1.70113146e-02, -1.42512051e-02, -6.88161841e-03,  4.21398366e-03,\n",
      "       -4.30806838e-02, -2.67428067e-02, -1.62303820e-02,  1.25917541e-02,\n",
      "        5.21600433e-02, -2.37525906e-03, -4.07908224e-02, -8.61836895e-02,\n",
      "       -1.45116197e-02,  4.16351249e-03, -9.38394964e-02,  7.20997900e-02,\n",
      "        8.24393630e-02, -2.21279673e-02,  4.46614623e-02,  1.65540427e-02,\n",
      "       -2.02720165e-02,  8.73716455e-03, -1.66923907e-02, -2.62562819e-02,\n",
      "       -1.82412621e-02, -2.11520102e-02, -5.71498387e-02, -5.01959026e-02,\n",
      "        4.63231653e-03, -2.56819353e-02,  5.73544502e-02, -6.35030866e-02,\n",
      "       -7.56663159e-02, -4.49203849e-02,  1.33449193e-02, -3.19806784e-02,\n",
      "       -6.17283117e-03,  2.73951446e-03,  2.42291931e-02, -9.88440961e-03,\n",
      "       -5.68548357e-03, -1.34591488e-02, -6.09957706e-03,  6.68276995e-02,\n",
      "       -5.88530721e-03, -6.07325472e-02, -3.69795337e-02,  3.01495809e-02,\n",
      "        6.91273483e-03, -3.14167477e-02, -1.54427178e-02,  2.05791164e-02,\n",
      "        5.12116915e-03,  3.90646234e-02,  2.45283339e-02, -5.45313396e-02,\n",
      "        2.27780938e-02,  9.09247843e-04, -1.05995499e-02, -2.76908427e-02,\n",
      "        1.08245416e-02,  1.74427144e-02, -8.58857855e-03,  6.12629093e-02,\n",
      "        4.04751711e-02, -2.80144569e-02, -7.40555674e-03, -4.82481495e-02,\n",
      "       -6.84641898e-02,  4.19007465e-02, -7.39822313e-02,  3.59387547e-02,\n",
      "       -4.41553304e-03, -2.60448828e-02,  5.82260787e-02, -6.74296468e-02,\n",
      "       -3.57026234e-02,  1.67596769e-02, -3.35947350e-02,  1.16618931e-01,\n",
      "       -1.29204160e-02,  1.63265839e-02, -3.17370109e-02, -6.48541674e-02,\n",
      "       -5.48135266e-02,  3.61775383e-02, -1.71991996e-02,  5.58894649e-02,\n",
      "        5.63544482e-02, -3.84179913e-02,  2.50716740e-03, -2.38348134e-02,\n",
      "        1.20832641e-02, -4.50325105e-03, -3.27084996e-02, -8.69037118e-03,\n",
      "       -8.15117266e-03,  3.32483537e-02,  4.61203381e-02, -1.84116997e-02,\n",
      "        1.25580924e-02,  3.87427723e-03, -2.50658002e-02,  4.98025082e-02,\n",
      "       -1.47377336e-02, -3.70705090e-02,  3.75287677e-03,  2.13877354e-02,\n",
      "        1.78421028e-02,  2.94035431e-02,  1.62053090e-02,  1.48460912e-02])\n"
     ]
    }
   ],
   "source": [
    "pprint.pprint(retrieved_data['embeddings'][1])"
   ]
  },
  {
   "cell_type": "code",
   "execution_count": null,
   "id": "3fed4105",
   "metadata": {},
   "outputs": [
    {
     "name": "stderr",
     "output_type": "stream",
     "text": [
      "c:\\Users\\user\\Documents\\YoutubeSummarizer\\.venv\\lib\\site-packages\\langsmith\\client.py:272: LangSmithMissingAPIKeyWarning: API key must be provided when using hosted LangSmith API\n",
      "  warnings.warn(\n"
     ]
    }
   ],
   "source": [
    "from langchain import hub\n",
    "\n",
    "prompt = hub.pull(\"rlm/rag-prompt\")\n",
    "\n",
    "def retrieve(query :str):\n",
    "    retrieved_docs = vectorstore.similarity_search(query)\n",
    "    docs_content = \"\\n\\n\".join(doc.page_content for doc in retrieved_docs)\n",
    "    \n",
    "    messages = prompt.invoke({\"question\": query, \"context\": docs_content})\n",
    "    response = llm.invoke(messages)\n",
    "    return response.content\n"
   ]
  },
  {
   "cell_type": "code",
   "execution_count": 42,
   "id": "24928a28",
   "metadata": {},
   "outputs": [
    {
     "data": {
      "text/plain": [
       "'There are three basic cell shapes: squamous, cuboidal, and columnar. Squamous cells are flat and scale-like, cuboidal cells are cube-ish, and columnar cells are tall and thick like columns.'"
      ]
     },
     "execution_count": 42,
     "metadata": {},
     "output_type": "execute_result"
    }
   ],
   "source": [
    "query = 'tell what kind of cell shape can you tell ?'\n",
    "retrieve(query)"
   ]
  },
  {
   "cell_type": "code",
   "execution_count": null,
   "id": "7577869d",
   "metadata": {},
   "outputs": [],
   "source": []
  }
 ],
 "metadata": {
  "kernelspec": {
   "display_name": ".venv",
   "language": "python",
   "name": "python3"
  },
  "language_info": {
   "codemirror_mode": {
    "name": "ipython",
    "version": 3
   },
   "file_extension": ".py",
   "mimetype": "text/x-python",
   "name": "python",
   "nbconvert_exporter": "python",
   "pygments_lexer": "ipython3",
   "version": "3.9.13"
  }
 },
 "nbformat": 4,
 "nbformat_minor": 5
}
